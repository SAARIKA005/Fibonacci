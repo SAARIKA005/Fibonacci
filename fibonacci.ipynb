{
  "nbformat": 4,
  "nbformat_minor": 0,
  "metadata": {
    "colab": {
      "name": "Untitled38.ipynb",
      "provenance": []
    },
    "kernelspec": {
      "name": "python3",
      "display_name": "Python 3"
    },
    "language_info": {
      "name": "python"
    }
  },
  "cells": [
    {
      "cell_type": "code",
      "source": [
        "n_terms = int(input (\"How many terms the user wants to print? \"))  \n",
        "  \n",
        "# First two terms  \n",
        "n_1 = 0  \n",
        "n_2 = 1  \n",
        "count = 0  \n",
        "  \n",
        "# Now, we will check if the number of terms is valid or not  \n",
        "if n_terms <= 0:  \n",
        "    print (\"Please enter a positive integer, the given number is not valid\")  \n",
        "# if there is only one term, it will return n_1  \n",
        "elif n_terms == 1:  \n",
        "    print (\"The Fibonacci sequence of the numbers up to\", n_terms, \": \")  \n",
        "    print(n_1)  \n",
        "# Then we will generate Fibonacci sequence of number  \n",
        "else:  \n",
        "    print (\"The fibonacci sequence of the numbers is:\")  \n",
        "    while count < n_terms:  \n",
        "        print(n_1)  \n",
        "        nth = n_1 + n_2  \n",
        "       # At last, we will update values  \n",
        "        n_1 = n_2  \n",
        "        n_2 = nth  \n",
        "        count += 1  "
      ],
      "metadata": {
        "id": "_3P9LZXX-DdY"
      },
      "execution_count": null,
      "outputs": []
    }
  ]
}